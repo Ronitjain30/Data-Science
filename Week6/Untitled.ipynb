{
 "cells": [
  {
   "cell_type": "code",
   "execution_count": 1,
   "id": "9928cac9",
   "metadata": {},
   "outputs": [
    {
     "name": "stdout",
     "output_type": "stream",
     "text": [
      " ======LIBRARY MENU=======\n",
      "            1. Display all available books\n",
      "            2. Request a book\n",
      "            3. Return a book\n",
      "            4. Exit\n",
      "            \n",
      "Enter Choice:1\n"
     ]
    },
    {
     "ename": "TypeError",
     "evalue": "display_available_books() takes 0 positional arguments but 1 was given",
     "output_type": "error",
     "traceback": [
      "\u001b[1;31m---------------------------------------------------------------------------\u001b[0m",
      "\u001b[1;31mTypeError\u001b[0m                                 Traceback (most recent call last)",
      "\u001b[1;32m<ipython-input-1-8deddb8cdaa7>\u001b[0m in \u001b[0;36m<module>\u001b[1;34m\u001b[0m\n\u001b[0;32m     77\u001b[0m             \u001b[0msys\u001b[0m\u001b[1;33m.\u001b[0m\u001b[0mexit\u001b[0m\u001b[1;33m(\u001b[0m\u001b[1;33m)\u001b[0m\u001b[1;33m\u001b[0m\u001b[1;33m\u001b[0m\u001b[0m\n\u001b[0;32m     78\u001b[0m \u001b[1;33m\u001b[0m\u001b[0m\n\u001b[1;32m---> 79\u001b[1;33m \u001b[0mmain\u001b[0m\u001b[1;33m(\u001b[0m\u001b[1;33m)\u001b[0m\u001b[1;33m\u001b[0m\u001b[1;33m\u001b[0m\u001b[0m\n\u001b[0m",
      "\u001b[1;32m<ipython-input-1-8deddb8cdaa7>\u001b[0m in \u001b[0;36mmain\u001b[1;34m()\u001b[0m\n\u001b[0;32m     69\u001b[0m         \u001b[0mchoice\u001b[0m \u001b[1;33m=\u001b[0m \u001b[0mint\u001b[0m\u001b[1;33m(\u001b[0m\u001b[0minput\u001b[0m\u001b[1;33m(\u001b[0m\u001b[1;34m\"Enter Choice:\"\u001b[0m\u001b[1;33m)\u001b[0m\u001b[1;33m)\u001b[0m\u001b[1;33m\u001b[0m\u001b[1;33m\u001b[0m\u001b[0m\n\u001b[0;32m     70\u001b[0m         \u001b[1;32mif\u001b[0m \u001b[0mchoice\u001b[0m\u001b[1;33m==\u001b[0m\u001b[1;36m1\u001b[0m\u001b[1;33m:\u001b[0m\u001b[1;33m\u001b[0m\u001b[1;33m\u001b[0m\u001b[0m\n\u001b[1;32m---> 71\u001b[1;33m             \u001b[0mlibrary\u001b[0m\u001b[1;33m.\u001b[0m\u001b[0mdisplay_available_books\u001b[0m\u001b[1;33m(\u001b[0m\u001b[1;33m)\u001b[0m\u001b[1;33m\u001b[0m\u001b[1;33m\u001b[0m\u001b[0m\n\u001b[0m\u001b[0;32m     72\u001b[0m         \u001b[1;32melif\u001b[0m \u001b[0mchoice\u001b[0m\u001b[1;33m==\u001b[0m\u001b[1;36m2\u001b[0m\u001b[1;33m:\u001b[0m\u001b[1;33m\u001b[0m\u001b[1;33m\u001b[0m\u001b[0m\n\u001b[0;32m     73\u001b[0m             \u001b[0mlibrary\u001b[0m\u001b[1;33m.\u001b[0m\u001b[0mlendBook\u001b[0m\u001b[1;33m(\u001b[0m\u001b[0mstudent\u001b[0m\u001b[1;33m.\u001b[0m\u001b[0mrequestBook\u001b[0m\u001b[1;33m(\u001b[0m\u001b[1;33m)\u001b[0m\u001b[1;33m)\u001b[0m\u001b[1;33m\u001b[0m\u001b[1;33m\u001b[0m\u001b[0m\n",
      "\u001b[1;31mTypeError\u001b[0m: display_available_books() takes 0 positional arguments but 1 was given"
     ]
    }
   ],
   "source": [
    "import pickle\n",
    "import sys\n",
    "\n",
    "class Book:\n",
    "    def __init__(self, books_dictionary):\n",
    "        self.books_dictionary = books_dictionary\n",
    "\n",
    "    def store_data(self):\n",
    "        books_data = pickle.dumps(self.books_dictionary)\n",
    "        return books_data\n",
    "\n",
    "\n",
    "class Student:\n",
    "    def __init__(self, students_dictionary):\n",
    "        self.students_dictionary = students_dictionary\n",
    "\n",
    "    def store_data(self):\n",
    "        students_data = pickle.dumps(self.students_dictionary)\n",
    "        return students_data\n",
    "\n",
    "    def requestBook(self):\n",
    "        print(\"Enter the name of the book you'd like to borrow: \")\n",
    "        self.book=input()\n",
    "        return self.book\n",
    "\n",
    "    def returnBook(self):\n",
    "        print(\"Enter the name of the book you'd like to return: \")\n",
    "        self.book=input()\n",
    "        return self.book\n",
    "\n",
    "\n",
    "class Library():\n",
    "    def display_available_books():\n",
    "        all_books = pickle.loads(Book.store_data())\n",
    "        print(\"The books we have in our library are as follows:\")\n",
    "        print(\"================================\")\n",
    "        for value in all_books.values():\n",
    "            print(value)\n",
    "\n",
    "    def lend_book(self, requested_book):\n",
    "        if requested_book in self.all_books.values():\n",
    "            print(\"The book you requested has now been borrowed\")\n",
    "\n",
    "            for key, value in self.all_books.items():\n",
    "                if requested_book == value:\n",
    "                    x = key\n",
    "            self.all_books.remove(x)\n",
    "\n",
    "        else:\n",
    "            print(\"Sorry the book you requested is not in the library\")\n",
    "                  \n",
    "    def receive_book(self, returned_book):\n",
    "        n = len(self.all_books)\n",
    "        self.all_books.update({n+1 : returned_book})\n",
    "            \n",
    "\n",
    "def main():\n",
    "    book = Book({1 : \"Harry Potter\", 2 : \"Manga\", 3 : \"The Invisible Man\"})\n",
    "    student = Student({1 : \"Ronit\", 2 : \"Rohit\", 3 : \"Rahul\", 4 : \"Rohan\"})\n",
    "    library = Library()\n",
    "    done=False\n",
    "    while done==False:\n",
    "        print(\"\"\" ======LIBRARY MENU=======\n",
    "            1. Display all available books\n",
    "            2. Request a book\n",
    "            3. Return a book\n",
    "            4. Exit\n",
    "            \"\"\")\n",
    "        choice = int(input(\"Enter Choice:\"))\n",
    "        if choice==1:\n",
    "            library.display_available_books()\n",
    "        elif choice==2:\n",
    "            library.lendBook(student.requestBook())\n",
    "        elif choice==3:\n",
    "            library.receive_book(student.returnBook())\n",
    "        elif choice==4:\n",
    "            sys.exit()\n",
    "                  \n",
    "main()"
   ]
  },
  {
   "cell_type": "code",
   "execution_count": null,
   "id": "ad9abb60",
   "metadata": {},
   "outputs": [],
   "source": []
  }
 ],
 "metadata": {
  "kernelspec": {
   "display_name": "Python 3",
   "language": "python",
   "name": "python3"
  },
  "language_info": {
   "codemirror_mode": {
    "name": "ipython",
    "version": 3
   },
   "file_extension": ".py",
   "mimetype": "text/x-python",
   "name": "python",
   "nbconvert_exporter": "python",
   "pygments_lexer": "ipython3",
   "version": "3.8.8"
  }
 },
 "nbformat": 4,
 "nbformat_minor": 5
}
